{
 "cells": [
  {
   "cell_type": "markdown",
   "id": "96e43b9f",
   "metadata": {},
   "source": [
    "1 ライブラリのインポート"
   ]
  },
  {
   "cell_type": "code",
   "execution_count": null,
   "id": "c0dacb54",
   "metadata": {},
   "outputs": [],
   "source": [
    "import pandas as pd\n",
    "import numpy as np\n",
    "from sklearn.model_selection import train_test_split\n",
    "from sklearn.ensemble import RandomForestClassifier\n",
    "from sklearn.metrics import classification_report, confusion_matrix\n",
    "import matplotlib.pyplot as plt\n"
   ]
  },
  {
   "cell_type": "markdown",
   "id": "4a445dec",
   "metadata": {},
   "source": [
    "2 データ読み込みと確認"
   ]
  },
  {
   "cell_type": "code",
   "execution_count": null,
   "id": "040b1a8f",
   "metadata": {},
   "outputs": [],
   "source": [
    "# 前処理済みデータの読み込み\n",
    "df = pd.read_csv('../data/processed/processed_data.csv')\n",
    "\n",
    "# 基本情報を確認\n",
    "display(df.head())\n",
    "print(df.info())\n",
    "print(df['target'].value_counts(normalize=True))"
   ]
  },
  {
   "cell_type": "markdown",
   "id": "0510dc07",
   "metadata": {},
   "source": [
    "3 特徴量／ターゲット分離とデータ分割"
   ]
  },
  {
   "cell_type": "code",
   "execution_count": null,
   "id": "1a4227b3",
   "metadata": {},
   "outputs": [],
   "source": [
    "# 特徴量とターゲット\n",
    "X = df.drop('target', axis=1)\n",
    "y = df['target']\n",
    "\n",
    "# 80:20 で訓練／テストに分割\n",
    "X_train, X_test, y_train, y_test = train_test_split(\n",
    "    X, y, test_size=0.2, stratify=y, random_state=42\n",
    ")\n",
    "\n",
    "print(\"Train:\", X_train.shape, y_train.value_counts())\n",
    "print(\"Test: \", X_test.shape, y_test.value_counts())"
   ]
  },
  {
   "cell_type": "markdown",
   "id": "34155637",
   "metadata": {},
   "source": [
    "4 モデル構築・学習"
   ]
  },
  {
   "cell_type": "code",
   "execution_count": null,
   "id": "7192b4b9",
   "metadata": {},
   "outputs": [],
   "source": [
    "# ランダムフォレストを定義・学習\n",
    "model = RandomForestClassifier(\n",
    "    n_estimators=100,\n",
    "    max_depth=None,\n",
    "    random_state=42,\n",
    "    n_jobs=-1\n",
    ")\n",
    "model.fit(X_train, y_train)"
   ]
  },
  {
   "cell_type": "markdown",
   "id": "5b07fcde",
   "metadata": {},
   "source": [
    "5 予測と評価"
   ]
  },
  {
   "cell_type": "code",
   "execution_count": null,
   "id": "ca839c38",
   "metadata": {},
   "outputs": [],
   "source": [
    "# テストデータで予測\n",
    "y_pred = model.predict(X_test)\n",
    "y_proba = model.predict_proba(X_test)[:, 1]\n",
    "\n",
    "# 分類レポート\n",
    "print(classification_report(y_test, y_pred, digits=4))\n",
    "\n",
    "# 混同行列を描画\n",
    "cm = confusion_matrix(y_test, y_pred)\n",
    "fig, ax = plt.subplots()\n",
    "im = ax.imshow(cm, cmap='Blues')\n",
    "ax.set_xlabel('Predicted')\n",
    "ax.set_ylabel('Actual')\n",
    "ax.set_xticks([0,1]); ax.set_yticks([0,1])\n",
    "ax.set_xticklabels(['Out','In']); ax.set_yticklabels(['Out','In'])\n",
    "for i in range(2):\n",
    "    for j in range(2):\n",
    "        ax.text(j, i, cm[i,j], ha='center', va='center', color='white' if cm[i,j]>cm.max()/2 else 'black')\n",
    "fig.tight_layout()\n",
    "plt.show()\n"
   ]
  },
  {
   "cell_type": "markdown",
   "id": "afad8701",
   "metadata": {},
   "source": [
    "# ────────────────\n",
    "# 閾値調整による Recall 向上\n",
    "# ────────────────"
   ]
  },
  {
   "cell_type": "code",
   "execution_count": null,
   "id": "df4fcb51",
   "metadata": {},
   "outputs": [],
   "source": [
    "from sklearn.metrics import precision_recall_curve\n",
    "import numpy as np"
   ]
  },
  {
   "cell_type": "markdown",
   "id": "c80be9e4",
   "metadata": {},
   "source": [
    "# 1. 複勝確率を再利用\n",
    "# y_proba は上のセルですでに定義済み"
   ]
  },
  {
   "cell_type": "markdown",
   "id": "bb028aeb",
   "metadata": {},
   "source": [
    "# 2. Precision–Recall curve の計算"
   ]
  },
  {
   "cell_type": "code",
   "execution_count": null,
   "id": "5a633f05",
   "metadata": {},
   "outputs": [],
   "source": [
    "precision, recall, thresholds = precision_recall_curve(y_test, y_proba)"
   ]
  },
  {
   "cell_type": "markdown",
   "id": "74c8e79e",
   "metadata": {},
   "source": [
    "# 3. 目標 Recall（例：0.75）を満たす最小の閾値を探す"
   ]
  },
  {
   "cell_type": "code",
   "execution_count": null,
   "id": "33b4fa2f",
   "metadata": {},
   "outputs": [],
   "source": [
    "desired_recall = 0.75\n",
    "idx = np.where(recall[:-1] >= desired_recall)[0]\n",
    "if len(idx) > 0:\n",
    "    opt_idx = idx[0]\n",
    "    opt_threshold = thresholds[opt_idx]\n",
    "    print(f\"Recall ≥ {desired_recall:.2f} を満たす最小閾値: {opt_threshold:.3f}\")\n",
    "    print(f\"このときの Precision: {precision[opt_idx]:.3f}, Recall: {recall[opt_idx]:.3f}\")\n",
    "else:\n",
    "    print(f\"Recall ≥ {desired_recall:.2f} を満たす閾値は見つかりませんでした。\")"
   ]
  },
  {
   "cell_type": "markdown",
   "id": "1b3ec050",
   "metadata": {},
   "source": [
    "# 4. 新閾値での予測"
   ]
  },
  {
   "cell_type": "code",
   "execution_count": null,
   "id": "e50b9fff",
   "metadata": {},
   "outputs": [],
   "source": [
    "y_pred_adj = (y_proba >= opt_threshold).astype(int)\n",
    "from sklearn.metrics import classification_report, confusion_matrix\n",
    "print(\"\\n=== 新閾値適用後の分類レポート ===\")\n",
    "print(classification_report(y_test, y_pred_adj, digits=4))\n",
    "print(\"=== 新閾値適用後の混同行列 ===\")\n",
    "print(confusion_matrix(y_test, y_pred_adj))"
   ]
  },
  {
   "cell_type": "markdown",
   "id": "2b380692",
   "metadata": {},
   "source": [
    "# ──────────────────────────────\n",
    "# ここから F1 スコアを最大化する閾値探索を追加\n",
    "# ──────────────────────────────"
   ]
  },
  {
   "cell_type": "code",
   "execution_count": null,
   "id": "ddce573c",
   "metadata": {},
   "outputs": [],
   "source": [
    "from sklearn.metrics import f1_score"
   ]
  },
  {
   "cell_type": "markdown",
   "id": "de34eeb3",
   "metadata": {},
   "source": [
    "# thresholds 配列に対して、それぞれの閾値での F1 を計算"
   ]
  },
  {
   "cell_type": "code",
   "execution_count": null,
   "id": "226bf667",
   "metadata": {},
   "outputs": [],
   "source": [
    "f1_scores = [f1_score(y_test, (y_proba >= t).astype(int)) for t in thresholds]"
   ]
  },
  {
   "cell_type": "markdown",
   "id": "4e2fe5f9",
   "metadata": {},
   "source": [
    "# 最良 F1 を示す閾値を抽出"
   ]
  },
  {
   "cell_type": "code",
   "execution_count": null,
   "id": "ddd0ca62",
   "metadata": {},
   "outputs": [],
   "source": [
    "best_idx    = int(np.argmax(f1_scores))\n",
    "best_threshold = thresholds[best_idx]\n",
    "best_f1     = f1_scores[best_idx]\n",
    "print(f\"\\n★ Best F1={best_f1:.3f} を実現する閾値: {best_threshold:.3f}\")"
   ]
  },
  {
   "cell_type": "markdown",
   "id": "24394211",
   "metadata": {},
   "source": [
    "# その閾値で再評価"
   ]
  },
  {
   "cell_type": "code",
   "execution_count": null,
   "id": "efecb75a",
   "metadata": {},
   "outputs": [],
   "source": [
    "y_pred_f1 = (y_proba >= best_threshold).astype(int)\n",
    "print(\"\\n=== F1最大化閾値適用後の分類レポート ===\")\n",
    "print(classification_report(y_test, y_pred_f1, digits=4))\n",
    "print(\"=== F1最大化閾値適用後の混同行列 ===\")\n",
    "print(confusion_matrix(y_test, y_pred_f1))"
   ]
  },
  {
   "cell_type": "markdown",
   "id": "af804f94",
   "metadata": {},
   "source": [
    "# ────────────\n",
    "# ① モデルと閾値の保存\n",
    "# ────────────"
   ]
  },
  {
   "cell_type": "code",
   "execution_count": null,
   "id": "ed141e31",
   "metadata": {},
   "outputs": [],
   "source": [
    "import joblib\n",
    "import json\n",
    "import os"
   ]
  },
  {
   "cell_type": "markdown",
   "id": "b6413b2a",
   "metadata": {},
   "source": [
    "# モデル保存用ディレクトリを作成"
   ]
  },
  {
   "cell_type": "code",
   "execution_count": null,
   "id": "49e4d768",
   "metadata": {},
   "outputs": [],
   "source": [
    "model_dir = '../models'\n",
    "os.makedirs(model_dir, exist_ok=True)"
   ]
  },
  {
   "cell_type": "markdown",
   "id": "0a814eb4",
   "metadata": {},
   "source": [
    "# 1) ランダムフォレストモデルを保存"
   ]
  },
  {
   "cell_type": "code",
   "execution_count": null,
   "id": "089b5a5a",
   "metadata": {},
   "outputs": [],
   "source": [
    "model_path = os.path.join(model_dir, 'keiba_rf_model.pkl')\n",
    "joblib.dump(model, model_path)\n",
    "print(f\"Model saved to {model_path}\")"
   ]
  },
  {
   "cell_type": "markdown",
   "id": "276bf227",
   "metadata": {},
   "source": [
    "# 2) 最適閾値と F1 スコアを JSON で保存"
   ]
  },
  {
   "cell_type": "code",
   "execution_count": null,
   "id": "85fc3417",
   "metadata": {},
   "outputs": [],
   "source": [
    "thresh_info = {\n",
    "    'best_threshold': float(best_threshold),  # F1最大化閾値\n",
    "    'best_f1_score': float(best_f1)          # そのときの F1\n",
    "}\n",
    "thresh_path = os.path.join(model_dir, 'threshold.json')\n",
    "with open(thresh_path, 'w') as f:\n",
    "    json.dump(thresh_info, f, indent=2)\n",
    "print(f\"Threshold info saved to {thresh_path}\")"
   ]
  }
 ],
 "metadata": {
  "kernelspec": {
   "display_name": "keiba-ai-env",
   "language": "python",
   "name": "python3"
  },
  "language_info": {
   "codemirror_mode": {
    "name": "ipython",
    "version": 3
   },
   "file_extension": ".py",
   "mimetype": "text/x-python",
   "name": "python",
   "nbconvert_exporter": "python",
   "pygments_lexer": "ipython3",
   "version": "3.11.8"
  }
 },
 "nbformat": 4,
 "nbformat_minor": 5
}
